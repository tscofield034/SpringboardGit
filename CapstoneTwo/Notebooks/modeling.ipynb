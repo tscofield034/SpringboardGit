{
 "cells": [
  {
   "cell_type": "markdown",
   "id": "d4f7b21a",
   "metadata": {},
   "source": [
    "# Capstone 2: Modeling"
   ]
  },
  {
   "cell_type": "markdown",
   "id": "190e9819",
   "metadata": {},
   "source": [
    "### 1. Sourcing and Loading"
   ]
  },
  {
   "cell_type": "markdown",
   "id": "3b32cc26",
   "metadata": {},
   "source": [
    "#### 1a. Import Relevant Libraries"
   ]
  },
  {
   "cell_type": "code",
   "execution_count": 1,
   "id": "ca0e303c",
   "metadata": {},
   "outputs": [],
   "source": [
    "import pandas as pd\n",
    "import matplotlib.pyplot as plt\n",
    "import seaborn as sns\n",
    "import os\n",
    "import numpy as np\n",
    "\n",
    "import warnings\n",
    "warnings.filterwarnings('ignore')\n",
    "\n",
    "from library.sb_utils import save_file"
   ]
  },
  {
   "cell_type": "markdown",
   "id": "fc0b76e1",
   "metadata": {},
   "source": [
    "#### 1b. Load the Data"
   ]
  },
  {
   "cell_type": "code",
   "execution_count": 2,
   "id": "bbdc4337",
   "metadata": {},
   "outputs": [],
   "source": [
    "import hickle as hkl"
   ]
  },
  {
   "cell_type": "code",
   "execution_count": 3,
   "id": "39807f99",
   "metadata": {},
   "outputs": [],
   "source": [
    "data = hkl.load(\"stroke_traintest_unscaled_data.hkl\")"
   ]
  },
  {
   "cell_type": "code",
   "execution_count": 4,
   "id": "41e655eb",
   "metadata": {},
   "outputs": [],
   "source": [
    "X_train = data['X_train']\n",
    "X_test = data['X_test']\n",
    "y_train = data['y_train']\n",
    "y_test = data['y_test']"
   ]
  },
  {
   "cell_type": "code",
   "execution_count": 5,
   "id": "7418ae5c",
   "metadata": {},
   "outputs": [
    {
     "data": {
      "text/html": [
       "<div>\n",
       "<style scoped>\n",
       "    .dataframe tbody tr th:only-of-type {\n",
       "        vertical-align: middle;\n",
       "    }\n",
       "\n",
       "    .dataframe tbody tr th {\n",
       "        vertical-align: top;\n",
       "    }\n",
       "\n",
       "    .dataframe thead th {\n",
       "        text-align: right;\n",
       "    }\n",
       "</style>\n",
       "<table border=\"1\" class=\"dataframe\">\n",
       "  <thead>\n",
       "    <tr style=\"text-align: right;\">\n",
       "      <th></th>\n",
       "      <th>gender</th>\n",
       "      <th>ever_married</th>\n",
       "      <th>Residence_type</th>\n",
       "      <th>work_type_Govt_job</th>\n",
       "      <th>work_type_Never_worked</th>\n",
       "      <th>work_type_Private</th>\n",
       "      <th>work_type_Self-employed</th>\n",
       "      <th>work_type_children</th>\n",
       "      <th>smoking_status_Unknown</th>\n",
       "      <th>smoking_status_formerly smoked</th>\n",
       "      <th>smoking_status_never smoked</th>\n",
       "      <th>smoking_status_smokes</th>\n",
       "      <th>id</th>\n",
       "      <th>hypertension</th>\n",
       "      <th>heart_disease</th>\n",
       "      <th>avg_glucose_level</th>\n",
       "      <th>bmi</th>\n",
       "    </tr>\n",
       "  </thead>\n",
       "  <tbody>\n",
       "    <tr>\n",
       "      <th>2331</th>\n",
       "      <td>1</td>\n",
       "      <td>1</td>\n",
       "      <td>0</td>\n",
       "      <td>0</td>\n",
       "      <td>0</td>\n",
       "      <td>1</td>\n",
       "      <td>0</td>\n",
       "      <td>0</td>\n",
       "      <td>0</td>\n",
       "      <td>1</td>\n",
       "      <td>0</td>\n",
       "      <td>0</td>\n",
       "      <td>15351</td>\n",
       "      <td>0</td>\n",
       "      <td>0</td>\n",
       "      <td>91.68</td>\n",
       "      <td>32.4</td>\n",
       "    </tr>\n",
       "    <tr>\n",
       "      <th>3901</th>\n",
       "      <td>1</td>\n",
       "      <td>1</td>\n",
       "      <td>1</td>\n",
       "      <td>0</td>\n",
       "      <td>0</td>\n",
       "      <td>1</td>\n",
       "      <td>0</td>\n",
       "      <td>0</td>\n",
       "      <td>0</td>\n",
       "      <td>0</td>\n",
       "      <td>1</td>\n",
       "      <td>0</td>\n",
       "      <td>37479</td>\n",
       "      <td>0</td>\n",
       "      <td>0</td>\n",
       "      <td>93.96</td>\n",
       "      <td>33.3</td>\n",
       "    </tr>\n",
       "    <tr>\n",
       "      <th>1436</th>\n",
       "      <td>1</td>\n",
       "      <td>1</td>\n",
       "      <td>0</td>\n",
       "      <td>1</td>\n",
       "      <td>0</td>\n",
       "      <td>0</td>\n",
       "      <td>0</td>\n",
       "      <td>0</td>\n",
       "      <td>0</td>\n",
       "      <td>1</td>\n",
       "      <td>0</td>\n",
       "      <td>0</td>\n",
       "      <td>71318</td>\n",
       "      <td>0</td>\n",
       "      <td>0</td>\n",
       "      <td>244.28</td>\n",
       "      <td>29.4</td>\n",
       "    </tr>\n",
       "    <tr>\n",
       "      <th>1018</th>\n",
       "      <td>0</td>\n",
       "      <td>1</td>\n",
       "      <td>0</td>\n",
       "      <td>0</td>\n",
       "      <td>0</td>\n",
       "      <td>0</td>\n",
       "      <td>1</td>\n",
       "      <td>0</td>\n",
       "      <td>1</td>\n",
       "      <td>0</td>\n",
       "      <td>0</td>\n",
       "      <td>0</td>\n",
       "      <td>17437</td>\n",
       "      <td>0</td>\n",
       "      <td>0</td>\n",
       "      <td>85.60</td>\n",
       "      <td>25.9</td>\n",
       "    </tr>\n",
       "    <tr>\n",
       "      <th>3567</th>\n",
       "      <td>0</td>\n",
       "      <td>1</td>\n",
       "      <td>0</td>\n",
       "      <td>0</td>\n",
       "      <td>0</td>\n",
       "      <td>0</td>\n",
       "      <td>1</td>\n",
       "      <td>0</td>\n",
       "      <td>0</td>\n",
       "      <td>0</td>\n",
       "      <td>1</td>\n",
       "      <td>0</td>\n",
       "      <td>62475</td>\n",
       "      <td>1</td>\n",
       "      <td>0</td>\n",
       "      <td>88.18</td>\n",
       "      <td>33.5</td>\n",
       "    </tr>\n",
       "  </tbody>\n",
       "</table>\n",
       "</div>"
      ],
      "text/plain": [
       "      gender  ever_married  Residence_type  work_type_Govt_job  \\\n",
       "2331       1             1               0                   0   \n",
       "3901       1             1               1                   0   \n",
       "1436       1             1               0                   1   \n",
       "1018       0             1               0                   0   \n",
       "3567       0             1               0                   0   \n",
       "\n",
       "      work_type_Never_worked  work_type_Private  work_type_Self-employed  \\\n",
       "2331                       0                  1                        0   \n",
       "3901                       0                  1                        0   \n",
       "1436                       0                  0                        0   \n",
       "1018                       0                  0                        1   \n",
       "3567                       0                  0                        1   \n",
       "\n",
       "      work_type_children  smoking_status_Unknown  \\\n",
       "2331                   0                       0   \n",
       "3901                   0                       0   \n",
       "1436                   0                       0   \n",
       "1018                   0                       1   \n",
       "3567                   0                       0   \n",
       "\n",
       "      smoking_status_formerly smoked  smoking_status_never smoked  \\\n",
       "2331                               1                            0   \n",
       "3901                               0                            1   \n",
       "1436                               1                            0   \n",
       "1018                               0                            0   \n",
       "3567                               0                            1   \n",
       "\n",
       "      smoking_status_smokes     id  hypertension  heart_disease  \\\n",
       "2331                      0  15351             0              0   \n",
       "3901                      0  37479             0              0   \n",
       "1436                      0  71318             0              0   \n",
       "1018                      0  17437             0              0   \n",
       "3567                      0  62475             1              0   \n",
       "\n",
       "      avg_glucose_level   bmi  \n",
       "2331              91.68  32.4  \n",
       "3901              93.96  33.3  \n",
       "1436             244.28  29.4  \n",
       "1018              85.60  25.9  \n",
       "3567              88.18  33.5  "
      ]
     },
     "execution_count": 5,
     "metadata": {},
     "output_type": "execute_result"
    }
   ],
   "source": [
    "# make sure the X data looks correct\n",
    "X_train.head()"
   ]
  },
  {
   "cell_type": "code",
   "execution_count": 6,
   "id": "31e46b45",
   "metadata": {},
   "outputs": [
    {
     "data": {
      "text/plain": [
       "Index(['gender', 'ever_married', 'Residence_type', 'work_type_Govt_job',\n",
       "       'work_type_Never_worked', 'work_type_Private',\n",
       "       'work_type_Self-employed', 'work_type_children',\n",
       "       'smoking_status_Unknown', 'smoking_status_formerly smoked',\n",
       "       'smoking_status_never smoked', 'smoking_status_smokes', 'hypertension',\n",
       "       'heart_disease', 'avg_glucose_level', 'bmi'],\n",
       "      dtype='object')"
      ]
     },
     "execution_count": 6,
     "metadata": {},
     "output_type": "execute_result"
    }
   ],
   "source": [
    "# remove ID columns for modeling\n",
    "X_train_id = X_train['id']\n",
    "X_train = X_train.drop(['id'], axis=1)\n",
    "\n",
    "X_test_id = X_test['id']\n",
    "X_test = X_test.drop(['id'], axis=1)\n",
    "\n",
    "X_train.columns"
   ]
  },
  {
   "cell_type": "code",
   "execution_count": 7,
   "id": "9694010f",
   "metadata": {},
   "outputs": [
    {
     "data": {
      "text/plain": [
       "2331    0\n",
       "3901    0\n",
       "1436    0\n",
       "1018    0\n",
       "3567    0\n",
       "Name: stroke, dtype: int64"
      ]
     },
     "execution_count": 7,
     "metadata": {},
     "output_type": "execute_result"
    }
   ],
   "source": [
    "# make sure the y data is there\n",
    "y_train.head()"
   ]
  },
  {
   "cell_type": "code",
   "execution_count": 8,
   "id": "bad0d520",
   "metadata": {},
   "outputs": [
    {
     "name": "stdout",
     "output_type": "stream",
     "text": [
      "X_train shape: (4086, 16)\n",
      "X_test shape: (1022, 16)\n",
      "y_train shape: (4086,)\n",
      "y_test shape: (1022,)\n"
     ]
    }
   ],
   "source": [
    "# verify data set shapes\n",
    "print(\"X_train shape: \" + str(X_train.shape))\n",
    "print(\"X_test shape: \" + str(X_test.shape))\n",
    "print(\"y_train shape: \" + str(y_train.shape))\n",
    "print(\"y_test shape: \" + str(y_test.shape))"
   ]
  },
  {
   "cell_type": "markdown",
   "id": "42ba2dae",
   "metadata": {},
   "source": [
    "### 2. Create Baseline Models"
   ]
  },
  {
   "cell_type": "markdown",
   "id": "53fa6bd5",
   "metadata": {},
   "source": [
    "Now, we can select a few algorithms and create baseline models. In these models, we want to keep things fairly simple and strive to select one or two algorithms to move forward with. Once we select the best models, we can do further parameter testing and try to optimize the performance. Speaking of performance, we will look at the ROC curves for the baseline models to determine their performace. Furthermore, reducing false-negative predictions (predicting non-stroke when actually stroke) is very important in healthcare datasets such as these where the predictions could lead to missing a diagnosis. \n",
    "\n",
    "The models that will be tested here are a random forest classifier, support vector machine, logistic regression, XGBoost, and CatBoost."
   ]
  },
  {
   "cell_type": "markdown",
   "id": "0499ca37",
   "metadata": {},
   "source": [
    "#### 2a. Random Forest Classifier"
   ]
  },
  {
   "cell_type": "code",
   "execution_count": 9,
   "id": "61fa8cb5",
   "metadata": {},
   "outputs": [],
   "source": [
    "from sklearn.ensemble import RandomForestClassifier\n",
    "from sklearn.model_selection import GridSearchCV\n",
    "from sklearn.metrics import roc_curve, roc_auc_score, confusion_matrix"
   ]
  },
  {
   "cell_type": "code",
   "execution_count": 10,
   "id": "7746e797",
   "metadata": {},
   "outputs": [
    {
     "data": {
      "text/plain": [
       "GridSearchCV(cv=10, estimator=RandomForestClassifier(),\n",
       "             param_grid={'max_depth': [3, 7, 20],\n",
       "                         'min_samples_split': [2, 4, 10],\n",
       "                         'n_estimators': [50, 100, 200, 300]},\n",
       "             scoring='f1')"
      ]
     },
     "execution_count": 10,
     "metadata": {},
     "output_type": "execute_result"
    }
   ],
   "source": [
    "# create grid search and fit model\n",
    "params = {'n_estimators':[50, 100, 200, 300], 'max_depth':[3,7,20], 'min_samples_split':[2,4,10]}\n",
    "rfc = RandomForestClassifier()\n",
    "#rfc_cv = GridSearchCV(rfc, params, scoring='recall', cv=5)\n",
    "rfc_cv = GridSearchCV(rfc, params, scoring='f1', cv=10)\n",
    "rfc_cv.fit(X_train,y_train)"
   ]
  },
  {
   "cell_type": "code",
   "execution_count": 11,
   "id": "7056dd63",
   "metadata": {},
   "outputs": [
    {
     "name": "stdout",
     "output_type": "stream",
     "text": [
      "Best Parameters: {'max_depth': 20, 'min_samples_split': 2, 'n_estimators': 200}\n"
     ]
    }
   ],
   "source": [
    "# print best parameters\n",
    "print(\"Best Parameters: \" + str(rfc_cv.best_params_))"
   ]
  },
  {
   "cell_type": "code",
   "execution_count": 12,
   "id": "79723da5",
   "metadata": {},
   "outputs": [],
   "source": [
    "# create model with best parameters\n",
    "rfc = RandomForestClassifier(max_depth=20, min_samples_split=2, n_estimators=200)\n",
    "rfc.fit(X_train, y_train)\n",
    "y_train_pred = rfc.predict(X_train)\n",
    "y_test_pred = rfc.predict(X_test)"
   ]
  },
  {
   "cell_type": "code",
   "execution_count": 13,
   "id": "f2795f96",
   "metadata": {},
   "outputs": [
    {
     "data": {
      "image/png": "[encoded data removed]",
      "text/plain": [
       "<Figure size 640x480 with 1 Axes>"
      ]
     },
     "metadata": {},
     "output_type": "display_data"
    },
    {
     "name": "stdout",
     "output_type": "stream",
     "text": [
      "AUC score: 0.5075436827956988\n"
     ]
    }
   ],
   "source": [
    "# generate roc curve\n",
    "fpr, tpr, thresholds = roc_curve(y_test, y_test_pred)\n",
    "\n",
    "plt.plot(fpr, tpr)\n",
    "plt.ylabel('True Positive Rate')\n",
    "plt.xlabel('False Positive Rate')\n",
    "plt.show()\n",
    "\n",
    "print(\"AUC score: \" + str(roc_auc_score(y_test, y_test_pred)))"
   ]
  },
  {
   "cell_type": "code",
   "execution_count": 14,
   "id": "f19526ad",
   "metadata": {},
   "outputs": [
    {
     "data": {
      "text/plain": [
       "array([[959,   1],\n",
       "       [ 61,   1]], dtype=int64)"
      ]
     },
     "execution_count": 14,
     "metadata": {},
     "output_type": "execute_result"
    }
   ],
   "source": [
    "# print confusion matrix\n",
    "confusion_matrix(y_test, y_test_pred)"
   ]
  },
  {
   "cell_type": "markdown",
   "id": "860b82b3",
   "metadata": {},
   "source": [
    "As we can see from the ROC curve and the confusion matrix, this classifier did a bad job at distinguishing the classes. This model has zero recall, meaning it predicted all observations to be '0'."
   ]
  },
  {
   "cell_type": "markdown",
   "id": "b037d0c8",
   "metadata": {},
   "source": [
    "#### 2b. Support Vector Machine"
   ]
  },
  {
   "cell_type": "code",
   "execution_count": 15,
   "id": "1fa0ac34",
   "metadata": {},
   "outputs": [],
   "source": [
    "from sklearn.svm import SVC"
   ]
  },
  {
   "cell_type": "code",
   "execution_count": 16,
   "id": "9a70f737",
   "metadata": {},
   "outputs": [
    {
     "data": {
      "text/plain": [
       "GridSearchCV(cv=5, estimator=SVC(),\n",
       "             param_grid={'C': [0.1, 1, 10, 100, 1000], 'gamma': ['auto'],\n",
       "                         'kernel': ['rbf']},\n",
       "             scoring='recall')"
      ]
     },
     "execution_count": 16,
     "metadata": {},
     "output_type": "execute_result"
    }
   ],
   "source": [
    "# create grid search and fit model\n",
    "params = {'C':[0.1, 1, 10, 100, 1000], 'gamma':['auto'], 'kernel':['rbf']}\n",
    "svc = SVC()\n",
    "svc_cv = GridSearchCV(svc, params, scoring='recall', cv=5)\n",
    "svc_cv.fit(X_train,y_train)"
   ]
  },
  {
   "cell_type": "code",
   "execution_count": 17,
   "id": "18eb62e2",
   "metadata": {},
   "outputs": [
    {
     "name": "stdout",
     "output_type": "stream",
     "text": [
      "Best Parameters: {'C': 1000, 'gamma': 'auto', 'kernel': 'rbf'}\n"
     ]
    }
   ],
   "source": [
    "# print best parameters\n",
    "print(\"Best Parameters: \" + str(svc_cv.best_params_))"
   ]
  },
  {
   "cell_type": "code",
   "execution_count": 18,
   "id": "2fb4f953",
   "metadata": {},
   "outputs": [],
   "source": [
    "# create model with best parameters\n",
    "svc = SVC(C=1000, gamma='auto', kernel='rbf')\n",
    "svc.fit(X_train, y_train)\n",
    "y_train_pred = svc.predict(X_train)\n",
    "y_test_pred = svc.predict(X_test)"
   ]
  },
  {
   "cell_type": "code",
   "execution_count": 19,
   "id": "9a71c72a",
   "metadata": {},
   "outputs": [
    {
     "data": {
      "image/png": "[encoded data removed]",
      "text/plain": [
       "<Figure size 640x480 with 1 Axes>"
      ]
     },
     "metadata": {},
     "output_type": "display_data"
    },
    {
     "name": "stdout",
     "output_type": "stream",
     "text": [
      "AUC score: 0.5114247311827957\n"
     ]
    }
   ],
   "source": [
    "# generate roc curve\n",
    "fpr, tpr, thresholds = roc_curve(y_test, y_test_pred)\n",
    "\n",
    "plt.plot(fpr, tpr)\n",
    "plt.ylabel('True Positive Rate')\n",
    "plt.xlabel('False Positive Rate')\n",
    "plt.show()\n",
    "\n",
    "print(\"AUC score: \" + str(roc_auc_score(y_test, y_test_pred)))"
   ]
  },
  {
   "cell_type": "code",
   "execution_count": 20,
   "id": "0086a1be",
   "metadata": {},
   "outputs": [
    {
     "data": {
      "text/plain": [
       "array([[920,  40],\n",
       "       [ 58,   4]], dtype=int64)"
      ]
     },
     "execution_count": 20,
     "metadata": {},
     "output_type": "execute_result"
    }
   ],
   "source": [
    "# print confusion matrix\n",
    "confusion_matrix(y_test, y_test_pred)"
   ]
  },
  {
   "cell_type": "markdown",
   "id": "9b0a362e",
   "metadata": {},
   "source": [
    "The same thing happened again: all 62 stroke events were predicted to be non-strokes. This is a problem and a useless model for our goal. We will keep trying to find another model that can distinguish the two classes."
   ]
  },
  {
   "cell_type": "markdown",
   "id": "7ed27568",
   "metadata": {},
   "source": [
    "#### 2c. Logistic Regression"
   ]
  },
  {
   "cell_type": "code",
   "execution_count": 21,
   "id": "ce409778",
   "metadata": {},
   "outputs": [],
   "source": [
    "from sklearn.linear_model import LogisticRegression"
   ]
  },
  {
   "cell_type": "code",
   "execution_count": 22,
   "id": "71c53d21",
   "metadata": {},
   "outputs": [
    {
     "data": {
      "text/plain": [
       "GridSearchCV(cv=5, estimator=LogisticRegression(),\n",
       "             param_grid={'C': [0.1, 1, 10, 100, 1000],\n",
       "                         'penalty': ['none', 'l1', 'l2']},\n",
       "             scoring='recall')"
      ]
     },
     "execution_count": 22,
     "metadata": {},
     "output_type": "execute_result"
    }
   ],
   "source": [
    "# create grid search and fit model\n",
    "params = {'penalty':['none', 'l1', 'l2'], 'C':[0.1, 1, 10, 100, 1000]}\n",
    "logr = LogisticRegression()\n",
    "logr_cv = GridSearchCV(logr, params, scoring='recall', cv=5)\n",
    "logr_cv.fit(X_train,y_train)"
   ]
  },
  {
   "cell_type": "code",
   "execution_count": 23,
   "id": "f28f8905",
   "metadata": {},
   "outputs": [
    {
     "name": "stdout",
     "output_type": "stream",
     "text": [
      "Best Parameters: {'C': 0.1, 'penalty': 'none'}\n"
     ]
    }
   ],
   "source": [
    "# print best parameters\n",
    "print(\"Best Parameters: \" + str(logr_cv.best_params_))"
   ]
  },
  {
   "cell_type": "code",
   "execution_count": 24,
   "id": "8f86d6fa",
   "metadata": {},
   "outputs": [],
   "source": [
    "# create model with best parameters\n",
    "logr = LogisticRegression(C=0.1, penalty='none')\n",
    "logr.fit(X_train, y_train)\n",
    "y_train_pred = logr.predict(X_train)\n",
    "y_test_pred = logr.predict(X_test)"
   ]
  },
  {
   "cell_type": "code",
   "execution_count": 25,
   "id": "f2c14ff4",
   "metadata": {},
   "outputs": [
    {
     "data": {
      "image/png": "[encoded data removed]",
      "text/plain": [
       "<Figure size 640x480 with 1 Axes>"
      ]
     },
     "metadata": {},
     "output_type": "display_data"
    },
    {
     "name": "stdout",
     "output_type": "stream",
     "text": [
      "AUC score: 0.5\n"
     ]
    }
   ],
   "source": [
    "# generate roc curve\n",
    "fpr, tpr, thresholds = roc_curve(y_test, y_test_pred)\n",
    "\n",
    "plt.plot(fpr, tpr)\n",
    "plt.ylabel('True Positive Rate')\n",
    "plt.xlabel('False Positive Rate')\n",
    "plt.show()\n",
    "\n",
    "print(\"AUC score: \" + str(roc_auc_score(y_test, y_test_pred)))"
   ]
  },
  {
   "cell_type": "code",
   "execution_count": 26,
   "id": "8f4e8019",
   "metadata": {},
   "outputs": [
    {
     "data": {
      "text/plain": [
       "array([[960,   0],\n",
       "       [ 62,   0]], dtype=int64)"
      ]
     },
     "execution_count": 26,
     "metadata": {},
     "output_type": "execute_result"
    }
   ],
   "source": [
    "# print confusion matrix\n",
    "confusion_matrix(y_test, y_test_pred)"
   ]
  },
  {
   "cell_type": "markdown",
   "id": "90e1921e",
   "metadata": {},
   "source": [
    "Same results..."
   ]
  },
  {
   "cell_type": "markdown",
   "id": "af7ab484",
   "metadata": {},
   "source": [
    "#### 2d. XGBoost"
   ]
  },
  {
   "cell_type": "code",
   "execution_count": 65,
   "id": "df607a93",
   "metadata": {},
   "outputs": [
    {
     "name": "stdout",
     "output_type": "stream",
     "text": [
      "Collecting xgboost\n",
      "  Downloading xgboost-1.7.5-py3-none-win_amd64.whl (70.9 MB)\n",
      "     ---------------------------------------- 70.9/70.9 MB 1.7 MB/s eta 0:00:00\n",
      "Requirement already satisfied: scipy in c:\\users\\tscofield\\documents\\anaconda\\lib\\site-packages (from xgboost) (1.9.1)\n",
      "Requirement already satisfied: numpy in c:\\users\\tscofield\\documents\\anaconda\\lib\\site-packages (from xgboost) (1.21.5)\n",
      "Installing collected packages: xgboost\n",
      "Successfully installed xgboost-1.7.5\n"
     ]
    }
   ],
   "source": [
    "! pip install xgboost"
   ]
  },
  {
   "cell_type": "code",
   "execution_count": 27,
   "id": "a82e977d",
   "metadata": {},
   "outputs": [],
   "source": [
    "from xgboost import XGBClassifier"
   ]
  },
  {
   "cell_type": "code",
   "execution_count": 28,
   "id": "29d8a8c1",
   "metadata": {},
   "outputs": [
    {
     "data": {
      "text/plain": [
       "XGBClassifier(base_score=None, booster=None, callbacks=None,\n",
       "              colsample_bylevel=None, colsample_bynode=None,\n",
       "              colsample_bytree=None, early_stopping_rounds=None,\n",
       "              enable_categorical=False, eval_metric=None, feature_types=None,\n",
       "              gamma=None, gpu_id=None, grow_policy=None, importance_type=None,\n",
       "              interaction_constraints=None, learning_rate=None, max_bin=None,\n",
       "              max_cat_threshold=None, max_cat_to_onehot=None,\n",
       "              max_delta_step=None, max_depth=None, max_leaves=None,\n",
       "              min_child_weight=None, missing=nan, monotone_constraints=None,\n",
       "              n_estimators=100, n_jobs=None, num_parallel_tree=None,\n",
       "              predictor=None, random_state=None, ...)"
      ]
     },
     "execution_count": 28,
     "metadata": {},
     "output_type": "execute_result"
    }
   ],
   "source": [
    "# train general XGBoost classifier\n",
    "xgb_model = XGBClassifier()\n",
    "xgb_model.fit(X_train, y_train)"
   ]
  },
  {
   "cell_type": "code",
   "execution_count": 29,
   "id": "af4b57c8",
   "metadata": {},
   "outputs": [],
   "source": [
    "# predict on training and testing sets\n",
    "y_train_pred = xgb_model.predict(X_train)\n",
    "y_test_pred = xgb_model.predict(X_test)\n",
    "\n",
    "y_train_pred = [round(value) for value in y_train_pred]\n",
    "y_test_pred = [round(value) for value in y_test_pred]"
   ]
  },
  {
   "cell_type": "code",
   "execution_count": 30,
   "id": "6bc9a35d",
   "metadata": {},
   "outputs": [
    {
     "data": {
      "image/png": "[encoded data removed]",
      "text/plain": [
       "<Figure size 640x480 with 1 Axes>"
      ]
     },
     "metadata": {},
     "output_type": "display_data"
    },
    {
     "name": "stdout",
     "output_type": "stream",
     "text": [
      "AUC score: 0.5161290322580645\n"
     ]
    }
   ],
   "source": [
    "# generate roc curve\n",
    "fpr, tpr, thresholds = roc_curve(y_test, y_test_pred)\n",
    "\n",
    "plt.plot(fpr, tpr)\n",
    "plt.ylabel('True Positive Rate')\n",
    "plt.xlabel('False Positive Rate')\n",
    "plt.show()\n",
    "\n",
    "print(\"AUC score: \" + str(roc_auc_score(y_test, y_test_pred)))"
   ]
  },
  {
   "cell_type": "code",
   "execution_count": 31,
   "id": "53766a83",
   "metadata": {},
   "outputs": [
    {
     "data": {
      "text/plain": [
       "array([[960,   0],\n",
       "       [ 60,   2]], dtype=int64)"
      ]
     },
     "execution_count": 31,
     "metadata": {},
     "output_type": "execute_result"
    }
   ],
   "source": [
    "# print confusion matrix\n",
    "confusion_matrix(y_test, y_test_pred)"
   ]
  },
  {
   "cell_type": "markdown",
   "id": "cb787380",
   "metadata": {},
   "source": [
    "This model predicted 2 stroke victims correctly, and predicted 4 incorrectly. This is better than a recall of zero but needs much improvement to be a sensible model."
   ]
  },
  {
   "cell_type": "markdown",
   "id": "7b66276c",
   "metadata": {},
   "source": [
    "#### 2e. CatBoost"
   ]
  },
  {
   "cell_type": "code",
   "execution_count": 71,
   "id": "f0c6b9ad",
   "metadata": {},
   "outputs": [
    {
     "name": "stdout",
     "output_type": "stream",
     "text": [
      "Requirement already satisfied: catboost in c:\\users\\tscofield\\documents\\anaconda\\lib\\site-packages (1.2)\n",
      "Requirement already satisfied: pandas>=0.24 in c:\\users\\tscofield\\documents\\anaconda\\lib\\site-packages (from catboost) (1.5.3)\n",
      "Requirement already satisfied: graphviz in c:\\users\\tscofield\\documents\\anaconda\\lib\\site-packages (from catboost) (0.20.1)\n",
      "Requirement already satisfied: matplotlib in c:\\users\\tscofield\\documents\\anaconda\\lib\\site-packages (from catboost) (3.5.2)\n",
      "Requirement already satisfied: six in c:\\users\\tscofield\\documents\\anaconda\\lib\\site-packages (from catboost) (1.16.0)\n",
      "Requirement already satisfied: scipy in c:\\users\\tscofield\\documents\\anaconda\\lib\\site-packages (from catboost) (1.9.1)\n",
      "Requirement already satisfied: plotly in c:\\users\\tscofield\\documents\\anaconda\\lib\\site-packages (from catboost) (5.9.0)\n",
      "Requirement already satisfied: numpy>=1.16.0 in c:\\users\\tscofield\\documents\\anaconda\\lib\\site-packages (from catboost) (1.21.5)\n",
      "Requirement already satisfied: pytz>=2020.1 in c:\\users\\tscofield\\documents\\anaconda\\lib\\site-packages (from pandas>=0.24->catboost) (2022.1)\n",
      "Requirement already satisfied: python-dateutil>=2.8.1 in c:\\users\\tscofield\\documents\\anaconda\\lib\\site-packages (from pandas>=0.24->catboost) (2.8.2)\n",
      "Requirement already satisfied: cycler>=0.10 in c:\\users\\tscofield\\documents\\anaconda\\lib\\site-packages (from matplotlib->catboost) (0.11.0)\n",
      "Requirement already satisfied: packaging>=20.0 in c:\\users\\tscofield\\documents\\anaconda\\lib\\site-packages (from matplotlib->catboost) (21.3)\n",
      "Requirement already satisfied: kiwisolver>=1.0.1 in c:\\users\\tscofield\\documents\\anaconda\\lib\\site-packages (from matplotlib->catboost) (1.4.2)\n",
      "Requirement already satisfied: pillow>=6.2.0 in c:\\users\\tscofield\\documents\\anaconda\\lib\\site-packages (from matplotlib->catboost) (9.2.0)\n",
      "Requirement already satisfied: pyparsing>=2.2.1 in c:\\users\\tscofield\\documents\\anaconda\\lib\\site-packages (from matplotlib->catboost) (3.0.9)\n",
      "Requirement already satisfied: fonttools>=4.22.0 in c:\\users\\tscofield\\documents\\anaconda\\lib\\site-packages (from matplotlib->catboost) (4.25.0)\n",
      "Requirement already satisfied: tenacity>=6.2.0 in c:\\users\\tscofield\\documents\\anaconda\\lib\\site-packages (from plotly->catboost) (8.0.1)\n"
     ]
    }
   ],
   "source": [
    "! pip install catboost"
   ]
  },
  {
   "cell_type": "code",
   "execution_count": 32,
   "id": "29371181",
   "metadata": {},
   "outputs": [],
   "source": [
    "from catboost import CatBoostClassifier"
   ]
  },
  {
   "cell_type": "code",
   "execution_count": null,
   "id": "491b881c",
   "metadata": {},
   "outputs": [],
   "source": [
    "# create grid search and fit model\n",
    "params = {'depth':[4,6,8,10], 'learning_rate':[0.01, 0.05, 0.1], 'iterations':[10, 50, 100]}\n",
    "cbc = CatBoostClassifier()\n",
    "cbc_cv = GridSearchCV(cbc, params, scoring='recall', cv=5)\n",
    "cbc_cv.fit(X_train,y_train, silent=True)"
   ]
  },
  {
   "cell_type": "code",
   "execution_count": 34,
   "id": "e6e4cbb3",
   "metadata": {},
   "outputs": [
    {
     "name": "stdout",
     "output_type": "stream",
     "text": [
      "Best Parameters: {'depth': 8, 'iterations': 100, 'learning_rate': 0.1}\n"
     ]
    }
   ],
   "source": [
    "# print best parameters\n",
    "print(\"Best Parameters: \" + str(cbc_cv.best_params_))"
   ]
  },
  {
   "cell_type": "code",
   "execution_count": 35,
   "id": "782ebd94",
   "metadata": {},
   "outputs": [
    {
     "name": "stdout",
     "output_type": "stream",
     "text": [
      "0:\tlearn: 0.6226812\ttotal: 12.5ms\tremaining: 1.24s\n",
      "1:\tlearn: 0.5589803\ttotal: 20.9ms\tremaining: 1.02s\n",
      "2:\tlearn: 0.5071681\ttotal: 32.5ms\tremaining: 1.05s\n",
      "3:\tlearn: 0.4638528\ttotal: 37.5ms\tremaining: 900ms\n",
      "4:\tlearn: 0.4254875\ttotal: 42.4ms\tremaining: 805ms\n",
      "5:\tlearn: 0.3967243\ttotal: 49.9ms\tremaining: 781ms\n",
      "6:\tlearn: 0.3672175\ttotal: 51.5ms\tremaining: 684ms\n",
      "7:\tlearn: 0.3425251\ttotal: 53.5ms\tremaining: 616ms\n",
      "8:\tlearn: 0.3233125\ttotal: 58.5ms\tremaining: 592ms\n",
      "9:\tlearn: 0.3051313\ttotal: 64ms\tremaining: 576ms\n",
      "10:\tlearn: 0.2883300\ttotal: 68.8ms\tremaining: 557ms\n",
      "11:\tlearn: 0.2755033\ttotal: 74ms\tremaining: 542ms\n",
      "12:\tlearn: 0.2638001\ttotal: 79.3ms\tremaining: 531ms\n",
      "13:\tlearn: 0.2530512\ttotal: 84.2ms\tremaining: 517ms\n",
      "14:\tlearn: 0.2441696\ttotal: 89.2ms\tremaining: 505ms\n",
      "15:\tlearn: 0.2362319\ttotal: 94.3ms\tremaining: 495ms\n",
      "16:\tlearn: 0.2288828\ttotal: 99.1ms\tremaining: 484ms\n",
      "17:\tlearn: 0.2223294\ttotal: 104ms\tremaining: 473ms\n",
      "18:\tlearn: 0.2160109\ttotal: 109ms\tremaining: 464ms\n",
      "19:\tlearn: 0.2109754\ttotal: 114ms\tremaining: 455ms\n",
      "20:\tlearn: 0.2060709\ttotal: 119ms\tremaining: 446ms\n",
      "21:\tlearn: 0.2010905\ttotal: 122ms\tremaining: 434ms\n",
      "22:\tlearn: 0.1970733\ttotal: 127ms\tremaining: 426ms\n",
      "23:\tlearn: 0.1933080\ttotal: 132ms\tremaining: 418ms\n",
      "24:\tlearn: 0.1896408\ttotal: 137ms\tremaining: 411ms\n",
      "25:\tlearn: 0.1864941\ttotal: 142ms\tremaining: 404ms\n",
      "26:\tlearn: 0.1835865\ttotal: 147ms\tremaining: 396ms\n",
      "27:\tlearn: 0.1811613\ttotal: 152ms\tremaining: 390ms\n",
      "28:\tlearn: 0.1788302\ttotal: 153ms\tremaining: 374ms\n",
      "29:\tlearn: 0.1766227\ttotal: 158ms\tremaining: 368ms\n",
      "30:\tlearn: 0.1747578\ttotal: 163ms\tremaining: 362ms\n",
      "31:\tlearn: 0.1730754\ttotal: 168ms\tremaining: 357ms\n",
      "32:\tlearn: 0.1713457\ttotal: 173ms\tremaining: 351ms\n",
      "33:\tlearn: 0.1699368\ttotal: 178ms\tremaining: 346ms\n",
      "34:\tlearn: 0.1687719\ttotal: 183ms\tremaining: 340ms\n",
      "35:\tlearn: 0.1674317\ttotal: 189ms\tremaining: 335ms\n",
      "36:\tlearn: 0.1660806\ttotal: 194ms\tremaining: 330ms\n",
      "37:\tlearn: 0.1648053\ttotal: 199ms\tremaining: 325ms\n",
      "38:\tlearn: 0.1637599\ttotal: 205ms\tremaining: 321ms\n",
      "39:\tlearn: 0.1625495\ttotal: 212ms\tremaining: 318ms\n",
      "40:\tlearn: 0.1615515\ttotal: 221ms\tremaining: 318ms\n",
      "41:\tlearn: 0.1608286\ttotal: 223ms\tremaining: 308ms\n",
      "42:\tlearn: 0.1596457\ttotal: 234ms\tremaining: 310ms\n",
      "43:\tlearn: 0.1590553\ttotal: 244ms\tremaining: 311ms\n",
      "44:\tlearn: 0.1583200\ttotal: 255ms\tremaining: 311ms\n",
      "45:\tlearn: 0.1575285\ttotal: 260ms\tremaining: 306ms\n",
      "46:\tlearn: 0.1567272\ttotal: 266ms\tremaining: 299ms\n",
      "47:\tlearn: 0.1559915\ttotal: 272ms\tremaining: 295ms\n",
      "48:\tlearn: 0.1551744\ttotal: 278ms\tremaining: 289ms\n",
      "49:\tlearn: 0.1547864\ttotal: 280ms\tremaining: 280ms\n",
      "50:\tlearn: 0.1541424\ttotal: 286ms\tremaining: 275ms\n",
      "51:\tlearn: 0.1535880\ttotal: 291ms\tremaining: 268ms\n",
      "52:\tlearn: 0.1533841\ttotal: 292ms\tremaining: 259ms\n",
      "53:\tlearn: 0.1527587\ttotal: 297ms\tremaining: 253ms\n",
      "54:\tlearn: 0.1522111\ttotal: 303ms\tremaining: 248ms\n",
      "55:\tlearn: 0.1517162\ttotal: 307ms\tremaining: 241ms\n",
      "56:\tlearn: 0.1511843\ttotal: 312ms\tremaining: 236ms\n",
      "57:\tlearn: 0.1506851\ttotal: 317ms\tremaining: 230ms\n",
      "58:\tlearn: 0.1503503\ttotal: 322ms\tremaining: 224ms\n",
      "59:\tlearn: 0.1498877\ttotal: 327ms\tremaining: 218ms\n",
      "60:\tlearn: 0.1493838\ttotal: 333ms\tremaining: 213ms\n",
      "61:\tlearn: 0.1487093\ttotal: 338ms\tremaining: 207ms\n",
      "62:\tlearn: 0.1483530\ttotal: 343ms\tremaining: 201ms\n",
      "63:\tlearn: 0.1478817\ttotal: 348ms\tremaining: 196ms\n",
      "64:\tlearn: 0.1475498\ttotal: 353ms\tremaining: 190ms\n",
      "65:\tlearn: 0.1469820\ttotal: 358ms\tremaining: 185ms\n",
      "66:\tlearn: 0.1465249\ttotal: 363ms\tremaining: 179ms\n",
      "67:\tlearn: 0.1461381\ttotal: 368ms\tremaining: 173ms\n",
      "68:\tlearn: 0.1458521\ttotal: 373ms\tremaining: 168ms\n",
      "69:\tlearn: 0.1454151\ttotal: 378ms\tremaining: 162ms\n",
      "70:\tlearn: 0.1449282\ttotal: 383ms\tremaining: 156ms\n",
      "71:\tlearn: 0.1442815\ttotal: 388ms\tremaining: 151ms\n",
      "72:\tlearn: 0.1437451\ttotal: 393ms\tremaining: 145ms\n",
      "73:\tlearn: 0.1434829\ttotal: 401ms\tremaining: 141ms\n",
      "74:\tlearn: 0.1430877\ttotal: 406ms\tremaining: 135ms\n",
      "75:\tlearn: 0.1426774\ttotal: 412ms\tremaining: 130ms\n",
      "76:\tlearn: 0.1423059\ttotal: 417ms\tremaining: 125ms\n",
      "77:\tlearn: 0.1419017\ttotal: 422ms\tremaining: 119ms\n",
      "78:\tlearn: 0.1414259\ttotal: 428ms\tremaining: 114ms\n",
      "79:\tlearn: 0.1409192\ttotal: 435ms\tremaining: 109ms\n",
      "80:\tlearn: 0.1404495\ttotal: 441ms\tremaining: 103ms\n",
      "81:\tlearn: 0.1399883\ttotal: 449ms\tremaining: 98.6ms\n",
      "82:\tlearn: 0.1396822\ttotal: 454ms\tremaining: 93ms\n",
      "83:\tlearn: 0.1394781\ttotal: 459ms\tremaining: 87.5ms\n",
      "84:\tlearn: 0.1389759\ttotal: 466ms\tremaining: 82.3ms\n",
      "85:\tlearn: 0.1387689\ttotal: 471ms\tremaining: 76.7ms\n",
      "86:\tlearn: 0.1385353\ttotal: 476ms\tremaining: 71.2ms\n",
      "87:\tlearn: 0.1380361\ttotal: 481ms\tremaining: 65.6ms\n",
      "88:\tlearn: 0.1377238\ttotal: 486ms\tremaining: 60ms\n",
      "89:\tlearn: 0.1373497\ttotal: 491ms\tremaining: 54.5ms\n",
      "90:\tlearn: 0.1370780\ttotal: 496ms\tremaining: 49ms\n",
      "91:\tlearn: 0.1365743\ttotal: 501ms\tremaining: 43.5ms\n",
      "92:\tlearn: 0.1362969\ttotal: 506ms\tremaining: 38.1ms\n",
      "93:\tlearn: 0.1357780\ttotal: 511ms\tremaining: 32.6ms\n",
      "94:\tlearn: 0.1355766\ttotal: 515ms\tremaining: 27.1ms\n",
      "95:\tlearn: 0.1353471\ttotal: 520ms\tremaining: 21.7ms\n",
      "96:\tlearn: 0.1350848\ttotal: 525ms\tremaining: 16.2ms\n",
      "97:\tlearn: 0.1348220\ttotal: 530ms\tremaining: 10.8ms\n",
      "98:\tlearn: 0.1345950\ttotal: 535ms\tremaining: 5.4ms\n",
      "99:\tlearn: 0.1341921\ttotal: 540ms\tremaining: 0us\n"
     ]
    }
   ],
   "source": [
    "# create model with best parameters\n",
    "cbc = CatBoostClassifier(depth=8, iterations=100, learning_rate=0.1)\n",
    "cbc.fit(X_train, y_train)\n",
    "y_train_pred = cbc.predict(X_train)\n",
    "y_test_pred = cbc.predict(X_test)"
   ]
  },
  {
   "cell_type": "code",
   "execution_count": 36,
   "id": "d2d7b7c7",
   "metadata": {},
   "outputs": [
    {
     "data": {
      "image/png": "[encoded data removed]",
      "text/plain": [
       "<Figure size 640x480 with 1 Axes>"
      ]
     },
     "metadata": {},
     "output_type": "display_data"
    },
    {
     "name": "stdout",
     "output_type": "stream",
     "text": [
      "AUC score: 0.5\n"
     ]
    }
   ],
   "source": [
    "# generate roc curve\n",
    "fpr, tpr, thresholds = roc_curve(y_test, y_test_pred)\n",
    "\n",
    "plt.plot(fpr, tpr)\n",
    "plt.ylabel('True Positive Rate')\n",
    "plt.xlabel('False Positive Rate')\n",
    "plt.show()\n",
    "\n",
    "print(\"AUC score: \" + str(roc_auc_score(y_test, y_test_pred)))"
   ]
  },
  {
   "cell_type": "code",
   "execution_count": 37,
   "id": "49d988a2",
   "metadata": {},
   "outputs": [
    {
     "data": {
      "text/plain": [
       "array([[960,   0],\n",
       "       [ 62,   0]], dtype=int64)"
      ]
     },
     "execution_count": 37,
     "metadata": {},
     "output_type": "execute_result"
    }
   ],
   "source": [
    "# print confusion matrix\n",
    "confusion_matrix(y_test, y_test_pred)"
   ]
  }
 ],
 "metadata": {
  "kernelspec": {
   "display_name": "Python 3 (ipykernel)",
   "language": "python",
   "name": "python3"
  },
  "language_info": {
   "codemirror_mode": {
    "name": "ipython",
    "version": 3
   },
   "file_extension": ".py",
   "mimetype": "text/x-python",
   "name": "python",
   "nbconvert_exporter": "python",
   "pygments_lexer": "ipython3",
   "version": "3.9.13"
  }
 },
 "nbformat": 4,
 "nbformat_minor": 5
}
